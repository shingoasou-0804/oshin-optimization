{
 "cells": [
  {
   "cell_type": "markdown",
   "id": "182123cd-717c-4818-ba17-453406291528",
   "metadata": {},
   "source": [
    "### リスト\n",
    "P: 製品のリスト\n",
    "M: 原料のリスト\n",
    "\n",
    "### 定数\n",
    "stock_${m}$(m∈M): 原料mの在庫量\n",
    "\n",
    "require_${p,m}$(p∈P, m∈M): 製品pを生産するのに必要な原料mの量\n",
    "\n",
    "gain_${p}$(p∈P): 製品pを生産した際の利得\n",
    "\n",
    "### 変数\n",
    "x_${p}$(p∈P): 製品pの生産量\n",
    "\n",
    "### 制約式\n",
    "x_${p}$>=0(p∈P): 製品pの生産量は0以上\n",
    "\n",
    "生産は在庫の範囲で行う\n",
    "\n",
    "### 目的関数\n",
    "gain_${p}$を最大化する"
   ]
  },
  {
   "cell_type": "markdown",
   "id": "44537481-66da-4263-9490-500eb69ac558",
   "metadata": {},
   "source": [
    "### データのインポート"
   ]
  },
  {
   "cell_type": "code",
   "execution_count": 2,
   "id": "23b7af62-d025-4438-b516-6a30e35f076e",
   "metadata": {},
   "outputs": [],
   "source": [
    "import pandas as pd\n",
    "import pulp"
   ]
  },
  {
   "cell_type": "code",
   "execution_count": 3,
   "id": "e9b450d9-f51d-483e-9762-99766a6e9def",
   "metadata": {},
   "outputs": [
    {
     "data": {
      "text/html": [
       "<div>\n",
       "<style scoped>\n",
       "    .dataframe tbody tr th:only-of-type {\n",
       "        vertical-align: middle;\n",
       "    }\n",
       "\n",
       "    .dataframe tbody tr th {\n",
       "        vertical-align: top;\n",
       "    }\n",
       "\n",
       "    .dataframe thead th {\n",
       "        text-align: right;\n",
       "    }\n",
       "</style>\n",
       "<table border=\"1\" class=\"dataframe\">\n",
       "  <thead>\n",
       "    <tr style=\"text-align: right;\">\n",
       "      <th></th>\n",
       "      <th>m</th>\n",
       "      <th>stock</th>\n",
       "    </tr>\n",
       "  </thead>\n",
       "  <tbody>\n",
       "    <tr>\n",
       "      <th>0</th>\n",
       "      <td>m1</td>\n",
       "      <td>35</td>\n",
       "    </tr>\n",
       "    <tr>\n",
       "      <th>1</th>\n",
       "      <td>m2</td>\n",
       "      <td>22</td>\n",
       "    </tr>\n",
       "    <tr>\n",
       "      <th>2</th>\n",
       "      <td>m3</td>\n",
       "      <td>27</td>\n",
       "    </tr>\n",
       "  </tbody>\n",
       "</table>\n",
       "</div>"
      ],
      "text/plain": [
       "    m  stock\n",
       "0  m1     35\n",
       "1  m2     22\n",
       "2  m3     27"
      ]
     },
     "execution_count": 3,
     "metadata": {},
     "output_type": "execute_result"
    }
   ],
   "source": [
    "stock_df = pd.read_csv('stocks.csv')\n",
    "stock_df"
   ]
  },
  {
   "cell_type": "code",
   "execution_count": 4,
   "id": "8b3989ad-215f-4337-a0ed-e8235983b713",
   "metadata": {},
   "outputs": [
    {
     "data": {
      "text/html": [
       "<div>\n",
       "<style scoped>\n",
       "    .dataframe tbody tr th:only-of-type {\n",
       "        vertical-align: middle;\n",
       "    }\n",
       "\n",
       "    .dataframe tbody tr th {\n",
       "        vertical-align: top;\n",
       "    }\n",
       "\n",
       "    .dataframe thead th {\n",
       "        text-align: right;\n",
       "    }\n",
       "</style>\n",
       "<table border=\"1\" class=\"dataframe\">\n",
       "  <thead>\n",
       "    <tr style=\"text-align: right;\">\n",
       "      <th></th>\n",
       "      <th>p</th>\n",
       "      <th>m</th>\n",
       "      <th>require</th>\n",
       "    </tr>\n",
       "  </thead>\n",
       "  <tbody>\n",
       "    <tr>\n",
       "      <th>0</th>\n",
       "      <td>p1</td>\n",
       "      <td>m1</td>\n",
       "      <td>2</td>\n",
       "    </tr>\n",
       "    <tr>\n",
       "      <th>1</th>\n",
       "      <td>p1</td>\n",
       "      <td>m2</td>\n",
       "      <td>0</td>\n",
       "    </tr>\n",
       "    <tr>\n",
       "      <th>2</th>\n",
       "      <td>p1</td>\n",
       "      <td>m3</td>\n",
       "      <td>1</td>\n",
       "    </tr>\n",
       "    <tr>\n",
       "      <th>3</th>\n",
       "      <td>p2</td>\n",
       "      <td>m1</td>\n",
       "      <td>3</td>\n",
       "    </tr>\n",
       "    <tr>\n",
       "      <th>4</th>\n",
       "      <td>p2</td>\n",
       "      <td>m2</td>\n",
       "      <td>2</td>\n",
       "    </tr>\n",
       "    <tr>\n",
       "      <th>5</th>\n",
       "      <td>p2</td>\n",
       "      <td>m3</td>\n",
       "      <td>0</td>\n",
       "    </tr>\n",
       "    <tr>\n",
       "      <th>6</th>\n",
       "      <td>p3</td>\n",
       "      <td>m1</td>\n",
       "      <td>0</td>\n",
       "    </tr>\n",
       "    <tr>\n",
       "      <th>7</th>\n",
       "      <td>p3</td>\n",
       "      <td>m2</td>\n",
       "      <td>2</td>\n",
       "    </tr>\n",
       "    <tr>\n",
       "      <th>8</th>\n",
       "      <td>p3</td>\n",
       "      <td>m3</td>\n",
       "      <td>2</td>\n",
       "    </tr>\n",
       "    <tr>\n",
       "      <th>9</th>\n",
       "      <td>p4</td>\n",
       "      <td>m1</td>\n",
       "      <td>2</td>\n",
       "    </tr>\n",
       "    <tr>\n",
       "      <th>10</th>\n",
       "      <td>p4</td>\n",
       "      <td>m2</td>\n",
       "      <td>2</td>\n",
       "    </tr>\n",
       "    <tr>\n",
       "      <th>11</th>\n",
       "      <td>p4</td>\n",
       "      <td>m3</td>\n",
       "      <td>2</td>\n",
       "    </tr>\n",
       "  </tbody>\n",
       "</table>\n",
       "</div>"
      ],
      "text/plain": [
       "     p   m  require\n",
       "0   p1  m1        2\n",
       "1   p1  m2        0\n",
       "2   p1  m3        1\n",
       "3   p2  m1        3\n",
       "4   p2  m2        2\n",
       "5   p2  m3        0\n",
       "6   p3  m1        0\n",
       "7   p3  m2        2\n",
       "8   p3  m3        2\n",
       "9   p4  m1        2\n",
       "10  p4  m2        2\n",
       "11  p4  m3        2"
      ]
     },
     "execution_count": 4,
     "metadata": {},
     "output_type": "execute_result"
    }
   ],
   "source": [
    "require_df = pd.read_csv('requires.csv')\n",
    "require_df"
   ]
  },
  {
   "cell_type": "code",
   "execution_count": 5,
   "id": "2046557a-7227-456a-8037-1c678f843a47",
   "metadata": {},
   "outputs": [
    {
     "data": {
      "text/html": [
       "<div>\n",
       "<style scoped>\n",
       "    .dataframe tbody tr th:only-of-type {\n",
       "        vertical-align: middle;\n",
       "    }\n",
       "\n",
       "    .dataframe tbody tr th {\n",
       "        vertical-align: top;\n",
       "    }\n",
       "\n",
       "    .dataframe thead th {\n",
       "        text-align: right;\n",
       "    }\n",
       "</style>\n",
       "<table border=\"1\" class=\"dataframe\">\n",
       "  <thead>\n",
       "    <tr style=\"text-align: right;\">\n",
       "      <th></th>\n",
       "      <th>p</th>\n",
       "      <th>gain</th>\n",
       "    </tr>\n",
       "  </thead>\n",
       "  <tbody>\n",
       "    <tr>\n",
       "      <th>0</th>\n",
       "      <td>p1</td>\n",
       "      <td>3</td>\n",
       "    </tr>\n",
       "    <tr>\n",
       "      <th>1</th>\n",
       "      <td>p2</td>\n",
       "      <td>4</td>\n",
       "    </tr>\n",
       "    <tr>\n",
       "      <th>2</th>\n",
       "      <td>p3</td>\n",
       "      <td>4</td>\n",
       "    </tr>\n",
       "    <tr>\n",
       "      <th>3</th>\n",
       "      <td>p4</td>\n",
       "      <td>5</td>\n",
       "    </tr>\n",
       "  </tbody>\n",
       "</table>\n",
       "</div>"
      ],
      "text/plain": [
       "    p  gain\n",
       "0  p1     3\n",
       "1  p2     4\n",
       "2  p3     4\n",
       "3  p4     5"
      ]
     },
     "execution_count": 5,
     "metadata": {},
     "output_type": "execute_result"
    }
   ],
   "source": [
    "gain_df = pd.read_csv('gains.csv')\n",
    "gain_df"
   ]
  },
  {
   "cell_type": "markdown",
   "id": "96eed8ec-8b72-48b0-9392-30cf76d090f9",
   "metadata": {},
   "source": [
    "### リストの定義"
   ]
  },
  {
   "cell_type": "code",
   "execution_count": 7,
   "id": "1bba1478-4ba1-463b-9671-7f591a4a941c",
   "metadata": {},
   "outputs": [
    {
     "name": "stdout",
     "output_type": "stream",
     "text": [
      "['p1', 'p2', 'p3', 'p4']\n"
     ]
    }
   ],
   "source": [
    "P = gain_df['p'].tolist()\n",
    "print(P)"
   ]
  },
  {
   "cell_type": "code",
   "execution_count": 9,
   "id": "667b7624-22fd-441d-8193-26d2883323bf",
   "metadata": {},
   "outputs": [
    {
     "name": "stdout",
     "output_type": "stream",
     "text": [
      "['m1', 'm2', 'm3']\n"
     ]
    }
   ],
   "source": [
    "M = stock_df['m'].tolist()\n",
    "print(M)"
   ]
  },
  {
   "cell_type": "markdown",
   "id": "788f7659-ca8c-46b1-aec4-63cd83307cde",
   "metadata": {},
   "source": [
    "### 定数の定義"
   ]
  },
  {
   "cell_type": "code",
   "execution_count": 11,
   "id": "45ba459e-2954-4b6f-b3aa-5120d2593e4a",
   "metadata": {},
   "outputs": [
    {
     "name": "stdout",
     "output_type": "stream",
     "text": [
      "{'m1': 35, 'm2': 22, 'm3': 27}\n"
     ]
    }
   ],
   "source": [
    "stock = {row.m: row.stock for row in stock_df.itertuples()}\n",
    "print(stock)"
   ]
  },
  {
   "cell_type": "code",
   "execution_count": 12,
   "id": "d5e42776-4f62-4626-83d5-bc5aceb8c594",
   "metadata": {},
   "outputs": [
    {
     "name": "stdout",
     "output_type": "stream",
     "text": [
      "{'m1': 35, 'm2': 22, 'm3': 27}\n"
     ]
    }
   ],
   "source": [
    "stock = dict(zip(stock_df['m'], stock_df['stock']))\n",
    "print(stock)"
   ]
  },
  {
   "cell_type": "code",
   "execution_count": 14,
   "id": "5e469b2f-a8ea-443a-983b-178e5527cac5",
   "metadata": {},
   "outputs": [
    {
     "name": "stdout",
     "output_type": "stream",
     "text": [
      "{'m1': 35, 'm2': 22, 'm3': 27}\n"
     ]
    }
   ],
   "source": [
    "stock = dict((row.m, row.stock) for row in stock_df.itertuples())\n",
    "print(stock)"
   ]
  },
  {
   "cell_type": "code",
   "execution_count": 15,
   "id": "9747f0c9-f0a2-4ff7-813c-8780e987dc85",
   "metadata": {},
   "outputs": [
    {
     "name": "stdout",
     "output_type": "stream",
     "text": [
      "{'m1': 35, 'm2': 22, 'm3': 27}\n"
     ]
    }
   ],
   "source": [
    "stock = stock_df.set_index('m').to_dict()['stock']\n",
    "print(stock)"
   ]
  },
  {
   "cell_type": "code",
   "execution_count": 16,
   "id": "27659d00-6fe7-4af6-8821-7cd8dbc88c17",
   "metadata": {},
   "outputs": [
    {
     "name": "stdout",
     "output_type": "stream",
     "text": [
      "{('p1', 'm1'): 2, ('p1', 'm2'): 0, ('p1', 'm3'): 1, ('p2', 'm1'): 3, ('p2', 'm2'): 2, ('p2', 'm3'): 0, ('p3', 'm1'): 0, ('p3', 'm2'): 2, ('p3', 'm3'): 2, ('p4', 'm1'): 2, ('p4', 'm2'): 2, ('p4', 'm3'): 2}\n"
     ]
    }
   ],
   "source": [
    "require = {(row.p, row.m): row.require for row in require_df.itertuples()}\n",
    "print(require)"
   ]
  },
  {
   "cell_type": "code",
   "execution_count": 17,
   "id": "b62a3885-9706-4eca-888d-e26550eabf3b",
   "metadata": {},
   "outputs": [
    {
     "name": "stdout",
     "output_type": "stream",
     "text": [
      "{'p1': 3, 'p2': 4, 'p3': 4, 'p4': 5}\n"
     ]
    }
   ],
   "source": [
    "gain = {row.p: row.gain for row in gain_df.itertuples()}\n",
    "print(gain)"
   ]
  },
  {
   "cell_type": "markdown",
   "id": "c2b827d9-8ae7-4d8e-96e4-daa5adb4799b",
   "metadata": {},
   "source": [
    "### 線形計画問題の定義"
   ]
  },
  {
   "cell_type": "code",
   "execution_count": 18,
   "id": "2c7a3748-b975-4cfa-a646-dbfda7386c08",
   "metadata": {},
   "outputs": [],
   "source": [
    "problem = pulp.LpProblem('LP2', pulp.LpMaximize)"
   ]
  },
  {
   "cell_type": "markdown",
   "id": "599dd519-9d7d-40d8-8348-8855f9c24b22",
   "metadata": {},
   "source": [
    "### 変数の定義"
   ]
  },
  {
   "cell_type": "code",
   "execution_count": 19,
   "id": "8dd621c4-9517-4a0d-a83e-e234d74a3cce",
   "metadata": {},
   "outputs": [],
   "source": [
    "x = pulp.LpVariable.dicts('x', P, cat='Continuous')"
   ]
  },
  {
   "cell_type": "markdown",
   "id": "08e94bf1-277e-467b-b400-8d719b911874",
   "metadata": {},
   "source": [
    "### 制約式の定義"
   ]
  },
  {
   "cell_type": "code",
   "execution_count": 20,
   "id": "535418b9-71cd-451a-9278-bc793de35ec3",
   "metadata": {},
   "outputs": [],
   "source": [
    "for p in P:\n",
    "    problem += x[p] >= 0"
   ]
  },
  {
   "cell_type": "code",
   "execution_count": 21,
   "id": "f15a7945-d149-4497-b8c7-84d01e9d62fd",
   "metadata": {},
   "outputs": [],
   "source": [
    "for m in M:\n",
    "    problem += pulp.lpSum([require[p,m] * x[p] for p in P]) <= stock[m]"
   ]
  },
  {
   "cell_type": "markdown",
   "id": "8ff5bdd9-bcd7-4209-a385-389dd2b0d2e9",
   "metadata": {},
   "source": [
    "### 目的関数の定義"
   ]
  },
  {
   "cell_type": "code",
   "execution_count": 22,
   "id": "951053dd-ca44-413d-8da5-6ede5981f0e2",
   "metadata": {},
   "outputs": [],
   "source": [
    "problem += pulp.lpSum([gain[p] * x[p] for p in P])"
   ]
  },
  {
   "cell_type": "code",
   "execution_count": 23,
   "id": "227aff8a-4596-43ca-b512-492eb967bf60",
   "metadata": {},
   "outputs": [
    {
     "name": "stdout",
     "output_type": "stream",
     "text": [
      "Welcome to the CBC MILP Solver \n",
      "Version: 2.10.10 \n",
      "Build Date: Sep 26 2023 \n",
      "\n",
      "command line - /usr/local/lib/python3.11/site-packages/pulp/solverdir/cbc/linux/arm64/cbc /tmp/89e2527f6ac64d53a8f39ac3a28d3075-pulp.mps -max -timeMode elapsed -branch -printingOptions all -solution /tmp/89e2527f6ac64d53a8f39ac3a28d3075-pulp.sol (default strategy 1)\n",
      "At line 2 NAME          MODEL\n",
      "At line 3 ROWS\n",
      "At line 12 COLUMNS\n",
      "At line 30 RHS\n",
      "At line 38 BOUNDS\n",
      "At line 43 ENDATA\n",
      "Problem MODEL has 7 rows, 4 columns and 13 elements\n",
      "Coin0008I MODEL read with 0 errors\n",
      "Option for timeMode changed from cpu to elapsed\n",
      "Presolve 3 (-4) rows, 4 (0) columns and 9 (-4) elements\n",
      "0  Obj -0 Dual inf 17.499996 (4)\n",
      "4  Obj 80.428571\n",
      "Optimal - objective value 80.428571\n",
      "After Postsolve, objective 80.428571, infeasibilities - dual 0 (0), primal 0 (0)\n",
      "Optimal objective 80.42857143 - 4 iterations time 0.002, Presolve 0.00\n",
      "Option for printingOptions changed from normal to all\n",
      "Total time (CPU seconds):       0.00   (Wallclock seconds):       0.00\n",
      "\n",
      "Status:  Optimal\n"
     ]
    }
   ],
   "source": [
    "status = problem.solve()\n",
    "print('Status: ', pulp.LpStatus[status])"
   ]
  },
  {
   "cell_type": "code",
   "execution_count": 24,
   "id": "263af95f-8797-43b9-bf2f-b3dd6f3c0ba6",
   "metadata": {},
   "outputs": [
    {
     "name": "stdout",
     "output_type": "stream",
     "text": [
      "p1 12.142857\n",
      "p2 3.5714286\n",
      "p3 7.4285714\n",
      "p4 0.0\n",
      "obj= 80.42857099999999\n"
     ]
    }
   ],
   "source": [
    "for p in P:\n",
    "    print(p, x[p].value())\n",
    "\n",
    "print('obj=', problem.objective.value())"
   ]
  },
  {
   "cell_type": "markdown",
   "id": "d168ba54-756d-4786-8752-af497a196373",
   "metadata": {},
   "source": [
    "### 生産量が整数値で得られるように数理最適化モデルを書き換える"
   ]
  },
  {
   "cell_type": "code",
   "execution_count": 25,
   "id": "39f43f55-efa5-44f0-8eb9-fa83e8190941",
   "metadata": {},
   "outputs": [],
   "source": [
    "# 変数の定義\n",
    "x = pulp.LpVariable.dict('x', P, cat='Integer')"
   ]
  },
  {
   "cell_type": "code",
   "execution_count": 26,
   "id": "88ec91fb-5404-4fca-98c6-f143830c74db",
   "metadata": {},
   "outputs": [],
   "source": [
    "problem = pulp.LpProblem('IP', pulp.LpMaximize)"
   ]
  },
  {
   "cell_type": "code",
   "execution_count": 2,
   "id": "547c2f32-e98a-4838-a397-5191b673c4b3",
   "metadata": {},
   "outputs": [
    {
     "name": "stdout",
     "output_type": "stream",
     "text": [
      "Welcome to the CBC MILP Solver \n",
      "Version: 2.10.10 \n",
      "Build Date: Sep 26 2023 \n",
      "\n",
      "command line - /usr/local/lib/python3.11/site-packages/pulp/solverdir/cbc/linux/arm64/cbc /tmp/6bfa6bf61e884735a04f84eec2a8fbca-pulp.mps -max -timeMode elapsed -branch -printingOptions all -solution /tmp/6bfa6bf61e884735a04f84eec2a8fbca-pulp.sol (default strategy 1)\n",
      "At line 2 NAME          MODEL\n",
      "At line 3 ROWS\n",
      "At line 12 COLUMNS\n",
      "At line 38 RHS\n",
      "At line 46 BOUNDS\n",
      "At line 51 ENDATA\n",
      "Problem MODEL has 7 rows, 4 columns and 13 elements\n",
      "Coin0008I MODEL read with 0 errors\n",
      "Option for timeMode changed from cpu to elapsed\n",
      "Continuous objective value is 80.4286 - 0.00 seconds\n",
      "Cgl0004I processed model has 3 rows, 4 columns (4 integer (0 of which binary)) and 9 elements\n",
      "Cutoff increment increased from 1e-05 to 0.9999\n",
      "Cbc0012I Integer solution of 76 found by DiveCoefficient after 0 iterations and 0 nodes (0.00 seconds)\n",
      "Cbc0038I Full problem 3 rows 4 columns, reduced to 3 rows 3 columns\n",
      "Cbc0012I Integer solution of 79 found by DiveCoefficient after 1 iterations and 0 nodes (0.00 seconds)\n",
      "Cbc0031I 1 added rows had average density of 4\n",
      "Cbc0013I At root node, 1 cuts changed objective from 80.428571 to 79 in 2 passes\n",
      "Cbc0014I Cut generator 0 (Probing) - 0 row cuts average 0.0 elements, 0 column cuts (0 active)  in 0.000 seconds - new frequency is -100\n",
      "Cbc0014I Cut generator 1 (Gomory) - 2 row cuts average 4.0 elements, 0 column cuts (0 active)  in 0.000 seconds - new frequency is 1\n",
      "Cbc0014I Cut generator 2 (Knapsack) - 0 row cuts average 0.0 elements, 0 column cuts (0 active)  in 0.000 seconds - new frequency is -100\n",
      "Cbc0014I Cut generator 3 (Clique) - 0 row cuts average 0.0 elements, 0 column cuts (0 active)  in 0.000 seconds - new frequency is -100\n",
      "Cbc0014I Cut generator 4 (MixedIntegerRounding2) - 0 row cuts average 0.0 elements, 0 column cuts (0 active)  in 0.000 seconds - new frequency is -100\n",
      "Cbc0014I Cut generator 5 (FlowCover) - 0 row cuts average 0.0 elements, 0 column cuts (0 active)  in 0.000 seconds - new frequency is -100\n",
      "Cbc0001I Search completed - best objective 79, took 1 iterations and 0 nodes (0.00 seconds)\n",
      "Cbc0035I Maximum depth 0, 0 variables fixed on reduced cost\n",
      "Cuts at root node changed objective from 80.4286 to 79\n",
      "Probing was tried 2 times and created 0 cuts of which 0 were active after adding rounds of cuts (0.000 seconds)\n",
      "Gomory was tried 2 times and created 2 cuts of which 0 were active after adding rounds of cuts (0.000 seconds)\n",
      "Knapsack was tried 2 times and created 0 cuts of which 0 were active after adding rounds of cuts (0.000 seconds)\n",
      "Clique was tried 2 times and created 0 cuts of which 0 were active after adding rounds of cuts (0.000 seconds)\n",
      "MixedIntegerRounding2 was tried 2 times and created 0 cuts of which 0 were active after adding rounds of cuts (0.000 seconds)\n",
      "FlowCover was tried 2 times and created 0 cuts of which 0 were active after adding rounds of cuts (0.000 seconds)\n",
      "TwoMirCuts was tried 1 times and created 0 cuts of which 0 were active after adding rounds of cuts (0.000 seconds)\n",
      "ZeroHalf was tried 1 times and created 0 cuts of which 0 were active after adding rounds of cuts (0.000 seconds)\n",
      "\n",
      "Result - Optimal solution found\n",
      "\n",
      "Objective value:                79.00000000\n",
      "Enumerated nodes:               0\n",
      "Total iterations:               1\n",
      "Time (CPU seconds):             0.00\n",
      "Time (Wallclock seconds):       0.00\n",
      "\n",
      "Option for printingOptions changed from normal to all\n",
      "Total time (CPU seconds):       0.00   (Wallclock seconds):       0.01\n",
      "\n",
      "Status: Optimal\n",
      "p1 13.0\n",
      "p2 3.0\n",
      "p3 7.0\n",
      "p4 -0.0\n",
      "obj= 79.0\n"
     ]
    }
   ],
   "source": [
    "import pandas as pd\n",
    "import pulp\n",
    "\n",
    "# データの取得\n",
    "require_df = pd.read_csv('requires.csv')\n",
    "stock_df = pd.read_csv('stocks.csv')\n",
    "gain_df = pd.read_csv('gains.csv')\n",
    "\n",
    "# リストの定義\n",
    "P = gain_df['p'].tolist()\n",
    "M = stock_df['m'].tolist()\n",
    "\n",
    "# 定数の定義\n",
    "stock = {row.m:row.stock for row in stock_df.itertuples()}\n",
    "gain = {row.p:row.gain for row in gain_df.itertuples()}\n",
    "require = {(row.p,row.m):row.require for row in require_df.itertuples()}\n",
    "\n",
    "# 数理最適化\n",
    "problem = pulp.LpProblem('IP', pulp.LpMaximize)\n",
    "\n",
    "# 変数の定義\n",
    "x = pulp.LpVariable.dicts('x', P, cat='Integer')\n",
    "\n",
    "# 制約式の定義\n",
    "for p in P:\n",
    "    problem += x[p] >= 0\n",
    "for m in M:\n",
    "    problem += pulp.lpSum([require[p,m] * x[p] for p in P]) <= stock[m]\n",
    "\n",
    "# 目的関数の定義\n",
    "problem += pulp.lpSum([gain[p] * x[p] for p in P])\n",
    "\n",
    "# 求解\n",
    "status = problem.solve()\n",
    "print('Status:', pulp.LpStatus[status])\n",
    "\n",
    "# 計算結果の表示\n",
    "for p in P:\n",
    "    print(p, x[p].value())\n",
    "\n",
    "print('obj=', problem.objective.value())"
   ]
  },
  {
   "cell_type": "code",
   "execution_count": null,
   "id": "f23e5b63-02b4-492b-a92c-a086e30c49be",
   "metadata": {},
   "outputs": [],
   "source": []
  }
 ],
 "metadata": {
  "kernelspec": {
   "display_name": "Python 3 (ipykernel)",
   "language": "python",
   "name": "python3"
  },
  "language_info": {
   "codemirror_mode": {
    "name": "ipython",
    "version": 3
   },
   "file_extension": ".py",
   "mimetype": "text/x-python",
   "name": "python",
   "nbconvert_exporter": "python",
   "pygments_lexer": "ipython3",
   "version": "3.11.9"
  }
 },
 "nbformat": 4,
 "nbformat_minor": 5
}
